{
  "nbformat": 4,
  "nbformat_minor": 0,
  "metadata": {
    "colab": {
      "name": "1.1.4 A Predator-Prey System",
      "provenance": [],
      "collapsed_sections": [],
      "authorship_tag": "ABX9TyP/nGSWhlE8XMG0hOupo+I9",
      "include_colab_link": true
    },
    "kernelspec": {
      "name": "python3",
      "display_name": "Python 3"
    },
    "language_info": {
      "name": "python"
    }
  },
  "cells": [
    {
      "cell_type": "markdown",
      "metadata": {
        "id": "view-in-github",
        "colab_type": "text"
      },
      "source": [
        "<a href=\"https://colab.research.google.com/github/vmacri7/Differential_Equations/blob/main/114_A_Predator_Prey_System.ipynb\" target=\"_parent\"><img src=\"https://colab.research.google.com/assets/colab-badge.svg\" alt=\"Open In Colab\"/></a>"
      ]
    },
    {
      "cell_type": "markdown",
      "source": [
        "#1.1.4 A Predator-Prey System\n",
        "###Vincenzo Macri\n",
        "\n",
        "\n",
        "---\n",
        "\n"
      ],
      "metadata": {
        "id": "8dcqXUjpKRja"
      }
    },
    {
      "cell_type": "markdown",
      "source": [
        "We can use a system of differential equations to simulate and describe certian complex phenomena such as population growth and decline.\n",
        "\n",
        "For example lets say we have two populations that are dependent on eachother, a lynx population denoted as $L(t)$ and a hare population denoted as $H(t)$.  The primary prey of the lynx is the hare thus we can describe the change in their populations using a predator-prey model.\n",
        "\n",
        "This model will follow the following rules,\n",
        "\n",
        "If there are no lynx, we can assume that the hares will reproduce expodentially at a rate proportional to their population described by,\n",
        "\n",
        "\\begin{equation*}\n",
        "\\frac{dH}{dt} = aH\n",
        "\\end{equation*}\n",
        "\n",
        "Since the lynx and the hares must interact in order for lynx to consume the hares, the rate of the lynx consuming hares is proportional to the rate of hare and lynx interactions.  With this, we can update the equation of hare population change as follows,\n",
        "\n",
        "\\begin{equation*}\n",
        "\\frac{dH}{dt} = aH - bHL\n",
        "\\end{equation*}\n",
        "\n",
        "Where HL is the number of interactions possible between the hares and the lynx\n",
        "\n",
        "If there is no food to feed the lynx population, the lynx population will decline at a rate described by the equation,\n",
        "\n",
        "\\begin{equation*}\n",
        "\\frac{dL}{dt} = -cL\n",
        "\\end{equation*}\n",
        "\n",
        "On the otherhand, the rate of lynx births is proportional to the population of the hares since we can assume that the more hares there are for lynx to eat, the more lynx will be able to survive and reproduce.  We can update the lynx population to demonstrate this as so,\n",
        "\n",
        "\\begin{equation*}\n",
        "\\frac{dL}{dt} = -cL + dHL\n",
        "\\end{equation*}\n",
        "\n",
        "The interaction of these two populations can be simulated using the following system of differential equations,\n",
        "\n",
        "\\begin{align*}\n",
        "\\frac{dH}{dt}  & =  aH - bHL,\\\\\n",
        "\\frac{dL}{dt}  & =  -cL + dHL\n",
        "\\end{align*}\n",
        "\n",
        "We can simulate how different conditions affect the populaitons of both the hare and the lynx by plugging in different values for the constants $a, b, c$ and $d$\n",
        "\n",
        "\n",
        "\n",
        "---\n",
        "\n",
        "\n"
      ],
      "metadata": {
        "id": "WAwRTuIFKY94"
      }
    },
    {
      "cell_type": "markdown",
      "source": [
        "For example if we set our initial equations to,\n",
        "\n",
        "\\begin{align*}\n",
        "\\frac{dH}{dt} & = 0.4H - 0.01HL,\\\\\n",
        "\\frac{dL}{dt} & = -0.3L + 0.005HL\n",
        "\\end{align*}\n",
        "\n",
        "We can plot the change in both the hare and lynx populations as so"
      ],
      "metadata": {
        "id": "hsTzcb4jOxiJ"
      }
    },
    {
      "cell_type": "code",
      "source": [
        "import numpy as np\n",
        "from tqdm import tqdm_notebook as tqdm"
      ],
      "metadata": {
        "id": "ux44JPz7zooW"
      },
      "execution_count": null,
      "outputs": []
    },
    {
      "cell_type": "code",
      "source": [
        "def hare_equation(H, L, a, b):\n",
        "  return (a*H - b*H*L)"
      ],
      "metadata": {
        "id": "QK_02ZgDnpWH"
      },
      "execution_count": null,
      "outputs": []
    },
    {
      "cell_type": "code",
      "source": [
        "def lynx_equation(H, L, c, d):\n",
        "  return (-c*L + d*H*L)"
      ],
      "metadata": {
        "id": "fYnZZc5FoM4W"
      },
      "execution_count": null,
      "outputs": []
    },
    {
      "cell_type": "code",
      "source": [
        "# Set initial conditions and parameters\n",
        "a, b, c, d = 0.4, 0.01, 0.3, 0.005\n",
        "H = [50]                                                                        # start 50 hares\n",
        "L = [10]                                                                        # start 10 lynxes\n",
        "t = np.linspace(0,100,10_000)\n",
        "dt = t[1:]-t[:-1]"
      ],
      "metadata": {
        "id": "sVy-IX_3v9rN"
      },
      "execution_count": null,
      "outputs": []
    },
    {
      "cell_type": "code",
      "source": [
        "for tx, dtx in zip(t[1:],dt):\n",
        "  new_H = H[-1] + hare_equation(H[-1],L[-1],a,b)*dtx\n",
        "  new_L = L[-1] + lynx_equation(H[-1],L[-1],c,d)*dtx\n",
        "  H.append(new_H)\n",
        "  L.append(new_L)"
      ],
      "metadata": {
        "id": "JhVq9G2k0FNO"
      },
      "execution_count": null,
      "outputs": []
    },
    {
      "cell_type": "code",
      "source": [
        "from matplotlib import pyplot as plt"
      ],
      "metadata": {
        "id": "4pO1rDpw3SmO"
      },
      "execution_count": null,
      "outputs": []
    },
    {
      "cell_type": "code",
      "source": [
        "plt.plot(t, np.array(H), 'b', label='Hare Population')\n",
        "plt.plot(t, np.array(L), 'r', label='Lynx Population')\n",
        "plt.legend()"
      ],
      "metadata": {
        "colab": {
          "base_uri": "https://localhost:8080/",
          "height": 283
        },
        "id": "esHflG543ZRP",
        "outputId": "badb348b-8c27-4491-d309-bfdb367891cf"
      },
      "execution_count": null,
      "outputs": [
        {
          "output_type": "execute_result",
          "data": {
            "text/plain": [
              "<matplotlib.legend.Legend at 0x7f642e7e84d0>"
            ]
          },
          "metadata": {},
          "execution_count": 74
        },
        {
          "output_type": "display_data",
          "data": {
            "image/png": "[encoded data removed]",
            "text/plain": [
              "<Figure size 432x288 with 1 Axes>"
            ]
          },
          "metadata": {
            "needs_background": "light"
          }
        }
      ]
    },
    {
      "cell_type": "code",
      "source": [
        ""
      ],
      "metadata": {
        "id": "cSs6Ymbhwlv9"
      },
      "execution_count": null,
      "outputs": []
    }
  ]
}